{
  "nbformat": 4,
  "nbformat_minor": 0,
  "metadata": {
    "colab": {
      "name": "Air Quality Prediction.ipynb",
      "provenance": [],
      "toc_visible": true,
      "authorship_tag": "ABX9TyNLpAGVKINne7m/RYIYCetR",
      "include_colab_link": true
    },
    "kernelspec": {
      "name": "python3",
      "display_name": "Python 3"
    },
    "accelerator": "GPU"
  },
  "cells": [
    {
      "cell_type": "markdown",
      "metadata": {
        "id": "view-in-github",
        "colab_type": "text"
      },
      "source": [
        "<a href=\"https://colab.research.google.com/github/Sid2601/Air_Quality-Prediction-using-PCA/blob/master/Air_Quality_Prediction.ipynb\" target=\"_parent\"><img src=\"https://colab.research.google.com/assets/colab-badge.svg\" alt=\"Open In Colab\"/></a>"
      ]
    },
    {
      "cell_type": "code",
      "metadata": {
        "id": "JzBJR41BEvte",
        "colab_type": "code",
        "colab": {}
      },
      "source": [
        "import numpy as np\n",
        "import pandas as pd\n",
        "from sklearn import datasets\n",
        "from sklearn.model_selection import train_test_split\n",
        "import os\n",
        "import matplotlib.pyplot as plt"
      ],
      "execution_count": 1,
      "outputs": []
    },
    {
      "cell_type": "code",
      "metadata": {
        "id": "thoyUFUwFuk1",
        "colab_type": "code",
        "colab": {}
      },
      "source": [
        "air_data = pd.read_excel('/content/AirQualityUCI.xlsx')"
      ],
      "execution_count": 17,
      "outputs": []
    },
    {
      "cell_type": "code",
      "metadata": {
        "id": "iN0zT845F8z0",
        "colab_type": "code",
        "colab": {
          "base_uri": "https://localhost:8080/",
          "height": 568
        },
        "outputId": "e00a9214-4c6d-4e63-fdb9-eab6c6d4719b"
      },
      "source": [
        "air_data"
      ],
      "execution_count": 18,
      "outputs": [
        {
          "output_type": "execute_result",
          "data": {
            "text/html": [
              "<div>\n",
              "<style scoped>\n",
              "    .dataframe tbody tr th:only-of-type {\n",
              "        vertical-align: middle;\n",
              "    }\n",
              "\n",
              "    .dataframe tbody tr th {\n",
              "        vertical-align: top;\n",
              "    }\n",
              "\n",
              "    .dataframe thead th {\n",
              "        text-align: right;\n",
              "    }\n",
              "</style>\n",
              "<table border=\"1\" class=\"dataframe\">\n",
              "  <thead>\n",
              "    <tr style=\"text-align: right;\">\n",
              "      <th></th>\n",
              "      <th>Date</th>\n",
              "      <th>Time</th>\n",
              "      <th>CO(GT)</th>\n",
              "      <th>PT08.S1(CO)</th>\n",
              "      <th>NMHC(GT)</th>\n",
              "      <th>C6H6(GT)</th>\n",
              "      <th>PT08.S2(NMHC)</th>\n",
              "      <th>NOx(GT)</th>\n",
              "      <th>PT08.S3(NOx)</th>\n",
              "      <th>NO2(GT)</th>\n",
              "      <th>PT08.S4(NO2)</th>\n",
              "      <th>PT08.S5(O3)</th>\n",
              "      <th>T</th>\n",
              "      <th>RH</th>\n",
              "      <th>AH</th>\n",
              "    </tr>\n",
              "  </thead>\n",
              "  <tbody>\n",
              "    <tr>\n",
              "      <th>0</th>\n",
              "      <td>2004-03-10</td>\n",
              "      <td>18:00:00</td>\n",
              "      <td>2.6</td>\n",
              "      <td>1360.00</td>\n",
              "      <td>150</td>\n",
              "      <td>11.881723</td>\n",
              "      <td>1045.50</td>\n",
              "      <td>166.0</td>\n",
              "      <td>1056.25</td>\n",
              "      <td>113.0</td>\n",
              "      <td>1692.00</td>\n",
              "      <td>1267.50</td>\n",
              "      <td>13.600</td>\n",
              "      <td>48.875001</td>\n",
              "      <td>0.757754</td>\n",
              "    </tr>\n",
              "    <tr>\n",
              "      <th>1</th>\n",
              "      <td>2004-03-10</td>\n",
              "      <td>19:00:00</td>\n",
              "      <td>2.0</td>\n",
              "      <td>1292.25</td>\n",
              "      <td>112</td>\n",
              "      <td>9.397165</td>\n",
              "      <td>954.75</td>\n",
              "      <td>103.0</td>\n",
              "      <td>1173.75</td>\n",
              "      <td>92.0</td>\n",
              "      <td>1558.75</td>\n",
              "      <td>972.25</td>\n",
              "      <td>13.300</td>\n",
              "      <td>47.700000</td>\n",
              "      <td>0.725487</td>\n",
              "    </tr>\n",
              "    <tr>\n",
              "      <th>2</th>\n",
              "      <td>2004-03-10</td>\n",
              "      <td>20:00:00</td>\n",
              "      <td>2.2</td>\n",
              "      <td>1402.00</td>\n",
              "      <td>88</td>\n",
              "      <td>8.997817</td>\n",
              "      <td>939.25</td>\n",
              "      <td>131.0</td>\n",
              "      <td>1140.00</td>\n",
              "      <td>114.0</td>\n",
              "      <td>1554.50</td>\n",
              "      <td>1074.00</td>\n",
              "      <td>11.900</td>\n",
              "      <td>53.975000</td>\n",
              "      <td>0.750239</td>\n",
              "    </tr>\n",
              "    <tr>\n",
              "      <th>3</th>\n",
              "      <td>2004-03-10</td>\n",
              "      <td>21:00:00</td>\n",
              "      <td>2.2</td>\n",
              "      <td>1375.50</td>\n",
              "      <td>80</td>\n",
              "      <td>9.228796</td>\n",
              "      <td>948.25</td>\n",
              "      <td>172.0</td>\n",
              "      <td>1092.00</td>\n",
              "      <td>122.0</td>\n",
              "      <td>1583.75</td>\n",
              "      <td>1203.25</td>\n",
              "      <td>11.000</td>\n",
              "      <td>60.000000</td>\n",
              "      <td>0.786713</td>\n",
              "    </tr>\n",
              "    <tr>\n",
              "      <th>4</th>\n",
              "      <td>2004-03-10</td>\n",
              "      <td>22:00:00</td>\n",
              "      <td>1.6</td>\n",
              "      <td>1272.25</td>\n",
              "      <td>51</td>\n",
              "      <td>6.518224</td>\n",
              "      <td>835.50</td>\n",
              "      <td>131.0</td>\n",
              "      <td>1205.00</td>\n",
              "      <td>116.0</td>\n",
              "      <td>1490.00</td>\n",
              "      <td>1110.00</td>\n",
              "      <td>11.150</td>\n",
              "      <td>59.575001</td>\n",
              "      <td>0.788794</td>\n",
              "    </tr>\n",
              "    <tr>\n",
              "      <th>...</th>\n",
              "      <td>...</td>\n",
              "      <td>...</td>\n",
              "      <td>...</td>\n",
              "      <td>...</td>\n",
              "      <td>...</td>\n",
              "      <td>...</td>\n",
              "      <td>...</td>\n",
              "      <td>...</td>\n",
              "      <td>...</td>\n",
              "      <td>...</td>\n",
              "      <td>...</td>\n",
              "      <td>...</td>\n",
              "      <td>...</td>\n",
              "      <td>...</td>\n",
              "      <td>...</td>\n",
              "    </tr>\n",
              "    <tr>\n",
              "      <th>9352</th>\n",
              "      <td>2005-04-04</td>\n",
              "      <td>10:00:00</td>\n",
              "      <td>3.1</td>\n",
              "      <td>1314.25</td>\n",
              "      <td>-200</td>\n",
              "      <td>13.529605</td>\n",
              "      <td>1101.25</td>\n",
              "      <td>471.7</td>\n",
              "      <td>538.50</td>\n",
              "      <td>189.8</td>\n",
              "      <td>1374.25</td>\n",
              "      <td>1728.50</td>\n",
              "      <td>21.850</td>\n",
              "      <td>29.250000</td>\n",
              "      <td>0.756824</td>\n",
              "    </tr>\n",
              "    <tr>\n",
              "      <th>9353</th>\n",
              "      <td>2005-04-04</td>\n",
              "      <td>11:00:00</td>\n",
              "      <td>2.4</td>\n",
              "      <td>1162.50</td>\n",
              "      <td>-200</td>\n",
              "      <td>11.355157</td>\n",
              "      <td>1027.00</td>\n",
              "      <td>353.3</td>\n",
              "      <td>603.75</td>\n",
              "      <td>179.2</td>\n",
              "      <td>1263.50</td>\n",
              "      <td>1269.00</td>\n",
              "      <td>24.325</td>\n",
              "      <td>23.725000</td>\n",
              "      <td>0.711864</td>\n",
              "    </tr>\n",
              "    <tr>\n",
              "      <th>9354</th>\n",
              "      <td>2005-04-04</td>\n",
              "      <td>12:00:00</td>\n",
              "      <td>2.4</td>\n",
              "      <td>1142.00</td>\n",
              "      <td>-200</td>\n",
              "      <td>12.374538</td>\n",
              "      <td>1062.50</td>\n",
              "      <td>293.0</td>\n",
              "      <td>603.25</td>\n",
              "      <td>174.7</td>\n",
              "      <td>1240.75</td>\n",
              "      <td>1092.00</td>\n",
              "      <td>26.900</td>\n",
              "      <td>18.350000</td>\n",
              "      <td>0.640649</td>\n",
              "    </tr>\n",
              "    <tr>\n",
              "      <th>9355</th>\n",
              "      <td>2005-04-04</td>\n",
              "      <td>13:00:00</td>\n",
              "      <td>2.1</td>\n",
              "      <td>1002.50</td>\n",
              "      <td>-200</td>\n",
              "      <td>9.547187</td>\n",
              "      <td>960.50</td>\n",
              "      <td>234.5</td>\n",
              "      <td>701.50</td>\n",
              "      <td>155.7</td>\n",
              "      <td>1041.00</td>\n",
              "      <td>769.75</td>\n",
              "      <td>28.325</td>\n",
              "      <td>13.550000</td>\n",
              "      <td>0.513866</td>\n",
              "    </tr>\n",
              "    <tr>\n",
              "      <th>9356</th>\n",
              "      <td>2005-04-04</td>\n",
              "      <td>14:00:00</td>\n",
              "      <td>2.2</td>\n",
              "      <td>1070.75</td>\n",
              "      <td>-200</td>\n",
              "      <td>11.932060</td>\n",
              "      <td>1047.25</td>\n",
              "      <td>265.2</td>\n",
              "      <td>654.00</td>\n",
              "      <td>167.7</td>\n",
              "      <td>1128.50</td>\n",
              "      <td>816.00</td>\n",
              "      <td>28.500</td>\n",
              "      <td>13.125000</td>\n",
              "      <td>0.502804</td>\n",
              "    </tr>\n",
              "  </tbody>\n",
              "</table>\n",
              "<p>9357 rows × 15 columns</p>\n",
              "</div>"
            ],
            "text/plain": [
              "           Date      Time  CO(GT)  ...       T         RH        AH\n",
              "0    2004-03-10  18:00:00     2.6  ...  13.600  48.875001  0.757754\n",
              "1    2004-03-10  19:00:00     2.0  ...  13.300  47.700000  0.725487\n",
              "2    2004-03-10  20:00:00     2.2  ...  11.900  53.975000  0.750239\n",
              "3    2004-03-10  21:00:00     2.2  ...  11.000  60.000000  0.786713\n",
              "4    2004-03-10  22:00:00     1.6  ...  11.150  59.575001  0.788794\n",
              "...         ...       ...     ...  ...     ...        ...       ...\n",
              "9352 2005-04-04  10:00:00     3.1  ...  21.850  29.250000  0.756824\n",
              "9353 2005-04-04  11:00:00     2.4  ...  24.325  23.725000  0.711864\n",
              "9354 2005-04-04  12:00:00     2.4  ...  26.900  18.350000  0.640649\n",
              "9355 2005-04-04  13:00:00     2.1  ...  28.325  13.550000  0.513866\n",
              "9356 2005-04-04  14:00:00     2.2  ...  28.500  13.125000  0.502804\n",
              "\n",
              "[9357 rows x 15 columns]"
            ]
          },
          "metadata": {
            "tags": []
          },
          "execution_count": 18
        }
      ]
    },
    {
      "cell_type": "code",
      "metadata": {
        "id": "-c2QjUqbGCO8",
        "colab_type": "code",
        "colab": {
          "base_uri": "https://localhost:8080/",
          "height": 35
        },
        "outputId": "31ca6d5d-44c1-45ed-c858-3857f1178159"
      },
      "source": [
        "air_data.shape"
      ],
      "execution_count": 19,
      "outputs": [
        {
          "output_type": "execute_result",
          "data": {
            "text/plain": [
              "(9357, 15)"
            ]
          },
          "metadata": {
            "tags": []
          },
          "execution_count": 19
        }
      ]
    },
    {
      "cell_type": "code",
      "metadata": {
        "id": "NSJgQ3NsHD6D",
        "colab_type": "code",
        "colab": {
          "base_uri": "https://localhost:8080/",
          "height": 248
        },
        "outputId": "2b868cef-f368-4502-f9e2-5479b3415bc6"
      },
      "source": [
        "from sklearn.preprocessing import MinMaxScaler\n",
        "scaler=MinMaxScaler()\n",
        "X=air_data.drop(['Date', 'Time','AH'], axis=1)\n",
        "X=scaler.fit_transform(X)\n",
        "X\n"
      ],
      "execution_count": 20,
      "outputs": [
        {
          "output_type": "execute_result",
          "data": {
            "text/plain": [
              "array([[0.95611137, 0.69650631, 0.25197984, ..., 0.53897714, 0.87326247,\n",
              "        0.86197939],\n",
              "       [0.95327985, 0.66625739, 0.22462203, ..., 0.43053898, 0.87203598,\n",
              "        0.85790977],\n",
              "       [0.95422369, 0.7152584 , 0.20734341, ..., 0.46790928, 0.86631235,\n",
              "        0.87964326],\n",
              "       ...,\n",
              "       [0.95516753, 0.59917401, 0.        , ..., 0.47452025, 0.92763696,\n",
              "        0.75625595],\n",
              "       [0.95375177, 0.53689028, 0.        , ..., 0.35616564, 0.93346279,\n",
              "        0.73963114],\n",
              "       [0.95422369, 0.56736243, 0.        , ..., 0.37315214, 0.93417825,\n",
              "        0.73815915]])"
            ]
          },
          "metadata": {
            "tags": []
          },
          "execution_count": 20
        }
      ]
    },
    {
      "cell_type": "code",
      "metadata": {
        "id": "XBIutitUKpsj",
        "colab_type": "code",
        "colab": {
          "base_uri": "https://localhost:8080/",
          "height": 230
        },
        "outputId": "1618f8e2-7ab8-4dae-c91a-0a9b23f64fa9"
      },
      "source": [
        "Y=air_data.AH\n",
        "print(Y)\n"
      ],
      "execution_count": 21,
      "outputs": [
        {
          "output_type": "stream",
          "text": [
            "0       0.757754\n",
            "1       0.725487\n",
            "2       0.750239\n",
            "3       0.786713\n",
            "4       0.788794\n",
            "          ...   \n",
            "9352    0.756824\n",
            "9353    0.711864\n",
            "9354    0.640649\n",
            "9355    0.513866\n",
            "9356    0.502804\n",
            "Name: AH, Length: 9357, dtype: float64\n"
          ],
          "name": "stdout"
        }
      ]
    },
    {
      "cell_type": "code",
      "metadata": {
        "id": "Fhc70UkT5YqC",
        "colab_type": "code",
        "colab": {}
      },
      "source": [
        "from sklearn.decomposition import PCA\n",
        "pca = PCA(n_components=2)\n",
        "X_new = pca.fit_transform(X)"
      ],
      "execution_count": 60,
      "outputs": []
    },
    {
      "cell_type": "code",
      "metadata": {
        "id": "tRDqSINoBryj",
        "colab_type": "code",
        "colab": {
          "base_uri": "https://localhost:8080/",
          "height": 870
        },
        "outputId": "36e453a9-4fdb-43d2-ca88-a22636b2f47e"
      },
      "source": [
        "pca.get_covariance()"
      ],
      "execution_count": 61,
      "outputs": [
        {
          "output_type": "execute_result",
          "data": {
            "text/plain": [
              "array([[ 1.26140584e-01,  3.87575929e-03,  4.29247946e-03,\n",
              "        -3.68103435e-03,  4.28089907e-03,  3.66232040e-02,\n",
              "        -8.54651793e-03,  6.59987145e-02, -4.11602139e-03,\n",
              "         9.60358416e-03, -7.98287053e-03, -6.46289999e-03],\n",
              "       [ 3.87575929e-03,  2.77725161e-02,  1.37307446e-03,\n",
              "         1.96371413e-02,  1.67674095e-02,  4.12327904e-03,\n",
              "         4.15030953e-03,  4.52258484e-03,  1.79699527e-02,\n",
              "         1.80600848e-02,  2.06130909e-02,  2.00135472e-02],\n",
              "       [ 4.29247946e-03,  1.37307446e-03,  9.52252787e-03,\n",
              "         1.18917277e-03,  1.27158677e-03,  1.54021095e-03,\n",
              "        -1.67553764e-05,  2.58070489e-03,  1.06241634e-03,\n",
              "         1.54191232e-03,  1.10613337e-03,  1.11840144e-03],\n",
              "       [-3.68103435e-03,  1.96371413e-02,  1.18917277e-03,\n",
              "         3.06615491e-02,  1.77560491e-02,  1.97638452e-03,\n",
              "         5.04046445e-03,  4.32318613e-04,  1.96143220e-02,\n",
              "         1.87894826e-02,  2.27184635e-02,  2.19711566e-02],\n",
              "       [ 4.28089907e-03,  1.67674095e-02,  1.27158677e-03,\n",
              "         1.77560491e-02,  2.44926019e-02,  3.97522510e-03,\n",
              "         3.70144533e-03,  4.53074028e-03,  1.62436291e-02,\n",
              "         1.64158289e-02,  1.86113131e-02,  1.80784955e-02],\n",
              "       [ 3.66232040e-02,  4.12327904e-03,  1.54021095e-03,\n",
              "         1.97638452e-03,  3.97522510e-03,  2.12207749e-02,\n",
              "        -1.97612377e-03,  2.10535739e-02,  1.57824987e-03,\n",
              "         5.82015271e-03,  8.05394068e-04,  1.17879271e-03],\n",
              "       [-8.54651793e-03,  4.15030953e-03, -1.67553764e-05,\n",
              "         5.04046445e-03,  3.70144533e-03, -1.97612377e-03,\n",
              "         1.09780405e-02, -4.26336310e-03,  4.67318620e-03,\n",
              "         3.58168056e-03,  5.62519655e-03,  5.35708792e-03],\n",
              "       [ 6.59987145e-02,  4.52258484e-03,  2.58070489e-03,\n",
              "         4.32318613e-04,  4.53074028e-03,  2.10535739e-02,\n",
              "        -4.26336310e-03,  4.68534461e-02, -2.34076254e-05,\n",
              "         7.67871975e-03, -1.85508453e-03, -1.07924710e-03],\n",
              "       [-4.11602139e-03,  1.79699527e-02,  1.06241634e-03,\n",
              "         1.96143220e-02,  1.62436291e-02,  1.57824987e-03,\n",
              "         4.67318620e-03, -2.34076254e-05,  2.72822125e-02,\n",
              "         1.71567838e-02,  2.08689250e-02,  2.01744638e-02],\n",
              "       [ 9.60358416e-03,  1.80600848e-02,  1.54191232e-03,\n",
              "         1.87894826e-02,  1.64158289e-02,  5.82015271e-03,\n",
              "         3.58168056e-03,  7.67871975e-03,  1.71567838e-02,\n",
              "         2.72140717e-02,  1.95168032e-02,  1.90137089e-02],\n",
              "       [-7.98287053e-03,  2.06130909e-02,  1.10613337e-03,\n",
              "         2.27184635e-02,  1.86113131e-02,  8.05394068e-04,\n",
              "         5.62519655e-03, -1.85508453e-03,  2.08689250e-02,\n",
              "         1.95168032e-02,  3.35666183e-02,  2.34413957e-02],\n",
              "       [-6.46289999e-03,  2.00135472e-02,  1.11840144e-03,\n",
              "         2.19711566e-02,  1.80784955e-02,  1.17879271e-03,\n",
              "         5.35708792e-03, -1.07924710e-03,  2.01744638e-02,\n",
              "         1.90137089e-02,  2.34413957e-02,  3.19236806e-02]])"
            ]
          },
          "metadata": {
            "tags": []
          },
          "execution_count": 61
        }
      ]
    },
    {
      "cell_type": "code",
      "metadata": {
        "id": "sz4WZiLjBskS",
        "colab_type": "code",
        "colab": {
          "base_uri": "https://localhost:8080/",
          "height": 35
        },
        "outputId": "d386903b-9198-464d-a110-4d16341a4024"
      },
      "source": [
        "explained_variance=pca.explained_variance_ratio_\n",
        "explained_variance"
      ],
      "execution_count": 62,
      "outputs": [
        {
          "output_type": "execute_result",
          "data": {
            "text/plain": [
              "array([0.4263395 , 0.35139688])"
            ]
          },
          "metadata": {
            "tags": []
          },
          "execution_count": 62
        }
      ]
    },
    {
      "cell_type": "code",
      "metadata": {
        "id": "GGNSBUuG8Y6l",
        "colab_type": "code",
        "colab": {
          "base_uri": "https://localhost:8080/",
          "height": 297
        },
        "outputId": "66dcef69-bf60-4712-8fda-d34c42a55183"
      },
      "source": [
        "with plt.style.context('dark_background'):\n",
        "  plt.figure(figsize=(6,4))\n",
        "  plt.bar(range(2), explained_variance, alpha=0.5, align = 'center', label = 'individual explained variance')\n",
        "  plt.ylabel('Explained variance ratio')\n",
        "  plt.xlabel('Principle Components')\n",
        "  plt.legend(loc='best')\n",
        "  plt.tight_layout()"
      ],
      "execution_count": 63,
      "outputs": [
        {
          "output_type": "display_data",
          "data": {
            "image/png": "[encoded data removed]",
            "text/plain": [
              "<Figure size 432x288 with 1 Axes>"
            ]
          },
          "metadata": {
            "tags": []
          }
        }
      ]
    },
    {
      "cell_type": "code",
      "metadata": {
        "id": "J6UgXTooB3v6",
        "colab_type": "code",
        "colab": {}
      },
      "source": [
        "X_train_new, X_test_new, y_train, y_test = train_test_split(X_new, Y, test_size = 0.3, random_state=2)"
      ],
      "execution_count": 64,
      "outputs": []
    },
    {
      "cell_type": "code",
      "metadata": {
        "id": "0GG3mP1ZCS7g",
        "colab_type": "code",
        "colab": {
          "base_uri": "https://localhost:8080/",
          "height": 88
        },
        "outputId": "9ac385d2-f9ef-4769-d936-d55ed0b43ddf"
      },
      "source": [
        "print(X_train_new.shape)\n",
        "print(X_test_new.shape)\n",
        "print(y_train.shape)\n",
        "print(y_test.shape)"
      ],
      "execution_count": 40,
      "outputs": [
        {
          "output_type": "stream",
          "text": [
            "(6549, 8)\n",
            "(2808, 8)\n",
            "(6549,)\n",
            "(2808,)\n"
          ],
          "name": "stdout"
        }
      ]
    },
    {
      "cell_type": "code",
      "metadata": {
        "id": "z7Jrc_HFCami",
        "colab_type": "code",
        "colab": {
          "base_uri": "https://localhost:8080/",
          "height": 337
        },
        "outputId": "6113396c-641c-441c-f966-ce8cfe375900"
      },
      "source": [
        "from keras.models import Sequential\n",
        "from keras.layers import Dense\n",
        "from keras.optimizers import SGD,Adam\n",
        "\n",
        "model = Sequential()\n",
        "\n",
        "model.add(Dense(300,input_shape=(2,),activation='relu'))\n",
        "\n",
        "model.add(Dense(100,activation='relu'))\n",
        "model.add(Dense(50,activation='relu'))\n",
        "model.add(Dense(10,activation='relu'))\n",
        "model.add(Dense(1,activation='linear'))\n",
        "\n",
        "model.compile(Adam(lr=0.01),'mean_squared_error')\n",
        "\n",
        "model.summary()"
      ],
      "execution_count": 65,
      "outputs": [
        {
          "output_type": "stream",
          "text": [
            "Model: \"sequential_6\"\n",
            "_________________________________________________________________\n",
            "Layer (type)                 Output Shape              Param #   \n",
            "=================================================================\n",
            "dense_31 (Dense)             (None, 300)               900       \n",
            "_________________________________________________________________\n",
            "dense_32 (Dense)             (None, 100)               30100     \n",
            "_________________________________________________________________\n",
            "dense_33 (Dense)             (None, 50)                5050      \n",
            "_________________________________________________________________\n",
            "dense_34 (Dense)             (None, 10)                510       \n",
            "_________________________________________________________________\n",
            "dense_35 (Dense)             (None, 1)                 11        \n",
            "=================================================================\n",
            "Total params: 36,571\n",
            "Trainable params: 36,571\n",
            "Non-trainable params: 0\n",
            "_________________________________________________________________\n"
          ],
          "name": "stdout"
        }
      ]
    },
    {
      "cell_type": "code",
      "metadata": {
        "id": "61oHLZreCk7z",
        "colab_type": "code",
        "colab": {
          "base_uri": "https://localhost:8080/",
          "height": 1000
        },
        "outputId": "5ab298e7-c678-4272-a837-b454dcad231c"
      },
      "source": [
        "model.fit(X_train_new,y_train,epochs=100)"
      ],
      "execution_count": 66,
      "outputs": [
        {
          "output_type": "stream",
          "text": [
            "Epoch 1/100\n",
            "205/205 [==============================] - 0s 2ms/step - loss: 95.9438\n",
            "Epoch 2/100\n",
            "205/205 [==============================] - 0s 2ms/step - loss: 9.0536\n",
            "Epoch 3/100\n",
            "205/205 [==============================] - 0s 2ms/step - loss: 3.2386\n",
            "Epoch 4/100\n",
            "205/205 [==============================] - 0s 2ms/step - loss: 15.3855\n",
            "Epoch 5/100\n",
            "205/205 [==============================] - 0s 2ms/step - loss: 0.9892\n",
            "Epoch 6/100\n",
            "205/205 [==============================] - 0s 2ms/step - loss: 4.4671\n",
            "Epoch 7/100\n",
            "205/205 [==============================] - 0s 2ms/step - loss: 10.6220\n",
            "Epoch 8/100\n",
            "205/205 [==============================] - 0s 2ms/step - loss: 1.1756\n",
            "Epoch 9/100\n",
            "205/205 [==============================] - 0s 2ms/step - loss: 0.2116\n",
            "Epoch 10/100\n",
            "205/205 [==============================] - 0s 2ms/step - loss: 0.3307\n",
            "Epoch 11/100\n",
            "205/205 [==============================] - 0s 2ms/step - loss: 2.9005\n",
            "Epoch 12/100\n",
            "205/205 [==============================] - 0s 2ms/step - loss: 0.2697\n",
            "Epoch 13/100\n",
            "205/205 [==============================] - 0s 2ms/step - loss: 1.2553\n",
            "Epoch 14/100\n",
            "205/205 [==============================] - 0s 2ms/step - loss: 2.2939\n",
            "Epoch 15/100\n",
            "205/205 [==============================] - 0s 2ms/step - loss: 5.0489\n",
            "Epoch 16/100\n",
            "205/205 [==============================] - 0s 2ms/step - loss: 3.9449\n",
            "Epoch 17/100\n",
            "205/205 [==============================] - 0s 2ms/step - loss: 0.6236\n",
            "Epoch 18/100\n",
            "205/205 [==============================] - 0s 2ms/step - loss: 0.2156\n",
            "Epoch 19/100\n",
            "205/205 [==============================] - 0s 2ms/step - loss: 27.6384\n",
            "Epoch 20/100\n",
            "205/205 [==============================] - 0s 2ms/step - loss: 13.4875\n",
            "Epoch 21/100\n",
            "205/205 [==============================] - 0s 2ms/step - loss: 0.0993\n",
            "Epoch 22/100\n",
            "205/205 [==============================] - 0s 2ms/step - loss: 0.0918\n",
            "Epoch 23/100\n",
            "205/205 [==============================] - 0s 2ms/step - loss: 0.1095\n",
            "Epoch 24/100\n",
            "205/205 [==============================] - 0s 2ms/step - loss: 0.1021\n",
            "Epoch 25/100\n",
            "205/205 [==============================] - 0s 2ms/step - loss: 0.1016\n",
            "Epoch 26/100\n",
            "205/205 [==============================] - 0s 2ms/step - loss: 0.1003\n",
            "Epoch 27/100\n",
            "205/205 [==============================] - 0s 2ms/step - loss: 0.4805\n",
            "Epoch 28/100\n",
            "205/205 [==============================] - 0s 2ms/step - loss: 0.3798\n",
            "Epoch 29/100\n",
            "205/205 [==============================] - 0s 2ms/step - loss: 16.6379\n",
            "Epoch 30/100\n",
            "205/205 [==============================] - 0s 2ms/step - loss: 3.1353\n",
            "Epoch 31/100\n",
            "205/205 [==============================] - 0s 2ms/step - loss: 0.1124\n",
            "Epoch 32/100\n",
            "205/205 [==============================] - 0s 2ms/step - loss: 0.1354\n",
            "Epoch 33/100\n",
            "205/205 [==============================] - 0s 2ms/step - loss: 0.2732\n",
            "Epoch 34/100\n",
            "205/205 [==============================] - 1s 2ms/step - loss: 0.1119\n",
            "Epoch 35/100\n",
            "205/205 [==============================] - 0s 2ms/step - loss: 0.1787\n",
            "Epoch 36/100\n",
            "205/205 [==============================] - 0s 2ms/step - loss: 0.1455\n",
            "Epoch 37/100\n",
            "205/205 [==============================] - 0s 2ms/step - loss: 1.5120\n",
            "Epoch 38/100\n",
            "205/205 [==============================] - 0s 2ms/step - loss: 3.0938\n",
            "Epoch 39/100\n",
            "205/205 [==============================] - 0s 2ms/step - loss: 0.5191\n",
            "Epoch 40/100\n",
            "205/205 [==============================] - 0s 2ms/step - loss: 0.2769\n",
            "Epoch 41/100\n",
            "205/205 [==============================] - 0s 2ms/step - loss: 3.1458\n",
            "Epoch 42/100\n",
            "205/205 [==============================] - 0s 2ms/step - loss: 2.7895\n",
            "Epoch 43/100\n",
            "205/205 [==============================] - 0s 2ms/step - loss: 4.0782\n",
            "Epoch 44/100\n",
            "205/205 [==============================] - 0s 2ms/step - loss: 0.0987\n",
            "Epoch 45/100\n",
            "205/205 [==============================] - 0s 2ms/step - loss: 0.0934\n",
            "Epoch 46/100\n",
            "205/205 [==============================] - 0s 2ms/step - loss: 0.1711\n",
            "Epoch 47/100\n",
            "205/205 [==============================] - 0s 2ms/step - loss: 4.5117\n",
            "Epoch 48/100\n",
            "205/205 [==============================] - 0s 2ms/step - loss: 16.9351\n",
            "Epoch 49/100\n",
            "205/205 [==============================] - 0s 2ms/step - loss: 0.5398\n",
            "Epoch 50/100\n",
            "205/205 [==============================] - 0s 2ms/step - loss: 0.0872\n",
            "Epoch 51/100\n",
            "205/205 [==============================] - 0s 2ms/step - loss: 0.0903\n",
            "Epoch 52/100\n",
            "205/205 [==============================] - 0s 2ms/step - loss: 0.1565\n",
            "Epoch 53/100\n",
            "205/205 [==============================] - 0s 2ms/step - loss: 0.0817\n",
            "Epoch 54/100\n",
            "205/205 [==============================] - 0s 2ms/step - loss: 0.2235\n",
            "Epoch 55/100\n",
            "205/205 [==============================] - 0s 2ms/step - loss: 0.8545\n",
            "Epoch 56/100\n",
            "205/205 [==============================] - 0s 2ms/step - loss: 0.8439\n",
            "Epoch 57/100\n",
            "205/205 [==============================] - 0s 2ms/step - loss: 0.1008\n",
            "Epoch 58/100\n",
            "205/205 [==============================] - 0s 2ms/step - loss: 0.5206\n",
            "Epoch 59/100\n",
            "205/205 [==============================] - 0s 2ms/step - loss: 18.0685\n",
            "Epoch 60/100\n",
            "205/205 [==============================] - 0s 2ms/step - loss: 0.1335\n",
            "Epoch 61/100\n",
            "205/205 [==============================] - 0s 2ms/step - loss: 0.1547\n",
            "Epoch 62/100\n",
            "205/205 [==============================] - 0s 2ms/step - loss: 0.1195\n",
            "Epoch 63/100\n",
            "205/205 [==============================] - 0s 2ms/step - loss: 0.0931\n",
            "Epoch 64/100\n",
            "205/205 [==============================] - 0s 2ms/step - loss: 0.0839\n",
            "Epoch 65/100\n",
            "205/205 [==============================] - 0s 2ms/step - loss: 0.1149\n",
            "Epoch 66/100\n",
            "205/205 [==============================] - 0s 2ms/step - loss: 0.0831\n",
            "Epoch 67/100\n",
            "205/205 [==============================] - 0s 2ms/step - loss: 0.1454\n",
            "Epoch 68/100\n",
            "205/205 [==============================] - 0s 2ms/step - loss: 3.3767\n",
            "Epoch 69/100\n",
            "205/205 [==============================] - 0s 2ms/step - loss: 0.0886\n",
            "Epoch 70/100\n",
            "205/205 [==============================] - 0s 2ms/step - loss: 0.2201\n",
            "Epoch 71/100\n",
            "205/205 [==============================] - 0s 2ms/step - loss: 0.1809\n",
            "Epoch 72/100\n",
            "205/205 [==============================] - 0s 2ms/step - loss: 0.4405\n",
            "Epoch 73/100\n",
            "205/205 [==============================] - 0s 2ms/step - loss: 0.2573\n",
            "Epoch 74/100\n",
            "205/205 [==============================] - 0s 2ms/step - loss: 16.9340\n",
            "Epoch 75/100\n",
            "205/205 [==============================] - 0s 2ms/step - loss: 2.1984\n",
            "Epoch 76/100\n",
            "205/205 [==============================] - 0s 2ms/step - loss: 0.0988\n",
            "Epoch 77/100\n",
            "205/205 [==============================] - 0s 2ms/step - loss: 0.0902\n",
            "Epoch 78/100\n",
            "205/205 [==============================] - 0s 2ms/step - loss: 0.0922\n",
            "Epoch 79/100\n",
            "205/205 [==============================] - 0s 2ms/step - loss: 0.4074\n",
            "Epoch 80/100\n",
            "205/205 [==============================] - 0s 2ms/step - loss: 6.8886\n",
            "Epoch 81/100\n",
            "205/205 [==============================] - 0s 2ms/step - loss: 0.2724\n",
            "Epoch 82/100\n",
            "205/205 [==============================] - 0s 2ms/step - loss: 0.0788\n",
            "Epoch 83/100\n",
            "205/205 [==============================] - 0s 2ms/step - loss: 0.1391\n",
            "Epoch 84/100\n",
            "205/205 [==============================] - 0s 2ms/step - loss: 0.1689\n",
            "Epoch 85/100\n",
            "205/205 [==============================] - 0s 2ms/step - loss: 0.0796\n",
            "Epoch 86/100\n",
            "205/205 [==============================] - 0s 2ms/step - loss: 0.0825\n",
            "Epoch 87/100\n",
            "205/205 [==============================] - 0s 2ms/step - loss: 0.3657\n",
            "Epoch 88/100\n",
            "205/205 [==============================] - 0s 2ms/step - loss: 0.5490\n",
            "Epoch 89/100\n",
            "205/205 [==============================] - 0s 2ms/step - loss: 2.8535\n",
            "Epoch 90/100\n",
            "205/205 [==============================] - 0s 2ms/step - loss: 0.1367\n",
            "Epoch 91/100\n",
            "205/205 [==============================] - 0s 2ms/step - loss: 0.0822\n",
            "Epoch 92/100\n",
            "205/205 [==============================] - 0s 2ms/step - loss: 0.0842\n",
            "Epoch 93/100\n",
            "205/205 [==============================] - 0s 2ms/step - loss: 1.5794\n",
            "Epoch 94/100\n",
            "205/205 [==============================] - 0s 2ms/step - loss: 3.0764\n",
            "Epoch 95/100\n",
            "205/205 [==============================] - 0s 2ms/step - loss: 0.1209\n",
            "Epoch 96/100\n",
            "205/205 [==============================] - 0s 2ms/step - loss: 0.0885\n",
            "Epoch 97/100\n",
            "205/205 [==============================] - 0s 2ms/step - loss: 0.7689\n",
            "Epoch 98/100\n",
            "205/205 [==============================] - 0s 2ms/step - loss: 0.8728\n",
            "Epoch 99/100\n",
            "205/205 [==============================] - 0s 2ms/step - loss: 0.1150\n",
            "Epoch 100/100\n",
            "205/205 [==============================] - 0s 2ms/step - loss: 0.1296\n"
          ],
          "name": "stdout"
        },
        {
          "output_type": "execute_result",
          "data": {
            "text/plain": [
              "<tensorflow.python.keras.callbacks.History at 0x7ff70e2be780>"
            ]
          },
          "metadata": {
            "tags": []
          },
          "execution_count": 66
        }
      ]
    },
    {
      "cell_type": "code",
      "metadata": {
        "id": "391wUR_HC4zw",
        "colab_type": "code",
        "colab": {
          "base_uri": "https://localhost:8080/",
          "height": 70
        },
        "outputId": "60a73fa2-c0cc-412b-a4ae-0e094ea67b74"
      },
      "source": [
        "result = model.evaluate(X_test_new, y_test)\n",
        "print(result)\n",
        "accuracy_ANN = 1 - result\n",
        "print(\"Accuracy : {}\".format(accuracy_ANN))"
      ],
      "execution_count": 67,
      "outputs": [
        {
          "output_type": "stream",
          "text": [
            "88/88 [==============================] - 0s 1ms/step - loss: 0.2603\n",
            "0.2602933645248413\n",
            "Accuracy : 0.7397066354751587\n"
          ],
          "name": "stdout"
        }
      ]
    },
    {
      "cell_type": "markdown",
      "metadata": {
        "id": "3PZfwiH_Enuv",
        "colab_type": "text"
      },
      "source": [
        "#Output According PCA\n",
        "\n",
        "1) n_components = 12 : -->Accuracy: 0.888292983174324\n",
        "\n",
        "2) n_components = 10 : -->Accuracy:0.9939798484556377\n",
        "\n",
        "3) n_components = 8  : -->Accuracy: 0.9157441258430481\n",
        "\n",
        "4) n_components = 5  : -->Accuracy: 0.9573804698884487\n",
        "\n",
        "5) n_components = 2  : -->Accuracy :0.7397066354751587"
      ]
    },
    {
      "cell_type": "code",
      "metadata": {
        "id": "8VIcrptmEd6I",
        "colab_type": "code",
        "colab": {}
      },
      "source": [
        ""
      ],
      "execution_count": null,
      "outputs": []
    }
  ]
}